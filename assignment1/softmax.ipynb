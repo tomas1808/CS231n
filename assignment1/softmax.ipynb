{
 "cells": [
  {
   "cell_type": "markdown",
   "metadata": {},
   "source": [
    "# Softmax exercise\n",
    "\n",
    "*Complete and hand in this completed worksheet (including its outputs and any supporting code outside of the worksheet) with your assignment submission. For more details see the [assignments page](http://vision.stanford.edu/teaching/cs231n/assignments.html) on the course website.*\n",
    "\n",
    "This exercise is analogous to the SVM exercise. You will:\n",
    "\n",
    "- implement a fully-vectorized **loss function** for the Softmax classifier\n",
    "- implement the fully-vectorized expression for its **analytic gradient**\n",
    "- **check your implementation** with numerical gradient\n",
    "- use a validation set to **tune the learning rate and regularization** strength\n",
    "- **optimize** the loss function with **SGD**\n",
    "- **visualize** the final learned weights\n"
   ]
  },
  {
   "cell_type": "code",
   "execution_count": 1,
   "metadata": {
    "collapsed": false
   },
   "outputs": [],
   "source": [
    "import random\n",
    "import numpy as np\n",
    "from cs231n.data_utils import load_CIFAR10\n",
    "import matplotlib.pyplot as plt\n",
    "%matplotlib inline\n",
    "plt.rcParams['figure.figsize'] = (10.0, 8.0) # set default size of plots\n",
    "plt.rcParams['image.interpolation'] = 'nearest'\n",
    "plt.rcParams['image.cmap'] = 'gray'\n",
    "\n",
    "# for auto-reloading extenrnal modules\n",
    "# see http://stackoverflow.com/questions/1907993/autoreload-of-modules-in-ipython\n",
    "%load_ext autoreload\n",
    "%autoreload 2"
   ]
  },
  {
   "cell_type": "code",
   "execution_count": 2,
   "metadata": {
    "collapsed": false
   },
   "outputs": [
    {
     "name": "stdout",
     "output_type": "stream",
     "text": [
      "Train data shape:  (49000, 3073)\n",
      "Train labels shape:  (49000,)\n",
      "Validation data shape:  (1000, 3073)\n",
      "Validation labels shape:  (1000,)\n",
      "Test data shape:  (1000, 3073)\n",
      "Test labels shape:  (1000,)\n",
      "dev data shape:  (500, 3073)\n",
      "dev labels shape:  (500,)\n"
     ]
    }
   ],
   "source": [
    "def get_CIFAR10_data(num_training=49000, num_validation=1000, num_test=1000, num_dev=500):\n",
    "  \"\"\"\n",
    "  Load the CIFAR-10 dataset from disk and perform preprocessing to prepare\n",
    "  it for the linear classifier. These are the same steps as we used for the\n",
    "  SVM, but condensed to a single function.  \n",
    "  \"\"\"\n",
    "  # Load the raw CIFAR-10 data\n",
    "  cifar10_dir = 'cs231n/datasets/cifar-10-batches-py'\n",
    "  X_train, y_train, X_test, y_test = load_CIFAR10(cifar10_dir)\n",
    "  \n",
    "  # subsample the data\n",
    "  mask = range(num_training, num_training + num_validation)\n",
    "  X_val = X_train[mask]\n",
    "  y_val = y_train[mask]\n",
    "  mask = range(num_training)\n",
    "  X_train = X_train[mask]\n",
    "  y_train = y_train[mask]\n",
    "  mask = range(num_test)\n",
    "  X_test = X_test[mask]\n",
    "  y_test = y_test[mask]\n",
    "  mask = np.random.choice(num_training, num_dev, replace=False)\n",
    "  X_dev = X_train[mask]\n",
    "  y_dev = y_train[mask]\n",
    "  \n",
    "  # Preprocessing: reshape the image data into rows\n",
    "  X_train = np.reshape(X_train, (X_train.shape[0], -1))\n",
    "  X_val = np.reshape(X_val, (X_val.shape[0], -1))\n",
    "  X_test = np.reshape(X_test, (X_test.shape[0], -1))\n",
    "  X_dev = np.reshape(X_dev, (X_dev.shape[0], -1))\n",
    "  \n",
    "  # Normalize the data: subtract the mean image\n",
    "  mean_image = np.mean(X_train, axis = 0)\n",
    "  X_train -= mean_image\n",
    "  X_val -= mean_image\n",
    "  X_test -= mean_image\n",
    "  X_dev -= mean_image\n",
    "  \n",
    "  # add bias dimension and transform into columns\n",
    "  X_train = np.hstack([X_train, np.ones((X_train.shape[0], 1))])\n",
    "  X_val = np.hstack([X_val, np.ones((X_val.shape[0], 1))])\n",
    "  X_test = np.hstack([X_test, np.ones((X_test.shape[0], 1))])\n",
    "  X_dev = np.hstack([X_dev, np.ones((X_dev.shape[0], 1))])\n",
    "  \n",
    "  return X_train, y_train, X_val, y_val, X_test, y_test, X_dev, y_dev\n",
    "\n",
    "\n",
    "# Invoke the above function to get our data.\n",
    "X_train, y_train, X_val, y_val, X_test, y_test, X_dev, y_dev = get_CIFAR10_data()\n",
    "print 'Train data shape: ', X_train.shape\n",
    "print 'Train labels shape: ', y_train.shape\n",
    "print 'Validation data shape: ', X_val.shape\n",
    "print 'Validation labels shape: ', y_val.shape\n",
    "print 'Test data shape: ', X_test.shape\n",
    "print 'Test labels shape: ', y_test.shape\n",
    "print 'dev data shape: ', X_dev.shape\n",
    "print 'dev labels shape: ', y_dev.shape"
   ]
  },
  {
   "cell_type": "markdown",
   "metadata": {},
   "source": [
    "## Softmax Classifier\n",
    "\n",
    "Your code for this section will all be written inside **cs231n/classifiers/softmax.py**. \n"
   ]
  },
  {
   "cell_type": "code",
   "execution_count": 24,
   "metadata": {
    "collapsed": false
   },
   "outputs": [
    {
     "name": "stdout",
     "output_type": "stream",
     "text": [
      "loss: 2.356307\n",
      "sanity check: 2.302585\n"
     ]
    }
   ],
   "source": [
    "# First implement the naive softmax loss function with nested loops.\n",
    "# Open the file cs231n/classifiers/softmax.py and implement the\n",
    "# softmax_loss_naive function.\n",
    "\n",
    "from cs231n.classifiers.softmax import softmax_loss_naive\n",
    "import time\n",
    "\n",
    "# Generate a random softmax weight matrix and use it to compute the loss.\n",
    "W = np.random.randn(3073, 10) * 0.0001\n",
    "loss, grad = softmax_loss_naive(W, X_dev, y_dev, 0.0)\n",
    "\n",
    "# As a rough sanity check, our loss should be something close to -log(0.1).\n",
    "print 'loss: %f' % loss\n",
    "print 'sanity check: %f' % (-np.log(0.1))"
   ]
  },
  {
   "cell_type": "markdown",
   "metadata": {},
   "source": [
    "## Inline Question 1:\n",
    "Why do we expect our loss to be close to -log(0.1)? Explain briefly.**\n",
    "\n",
    "**Your answer:** When we initiate a new W with small weights all classes have the same probability. This means the correct class will have a probability of 1/n where n is the number of classes. In this case we have 10 classes so the probability will be 1/10 = 0.1\n"
   ]
  },
  {
   "cell_type": "code",
   "execution_count": 38,
   "metadata": {
    "collapsed": false
   },
   "outputs": [
    {
     "name": "stdout",
     "output_type": "stream",
     "text": [
      "numerical: 2.503999 analytic: 2.503999, relative error: 2.010079e-08\n",
      "numerical: 1.684174 analytic: 1.684174, relative error: 6.943142e-10\n",
      "numerical: -3.509247 analytic: -3.509247, relative error: 1.223756e-08\n",
      "numerical: -0.092871 analytic: -0.092872, relative error: 9.823942e-07\n",
      "numerical: -1.359564 analytic: -1.359564, relative error: 3.291110e-08\n",
      "numerical: 0.024917 analytic: 0.024917, relative error: 6.696710e-08\n",
      "numerical: -0.420512 analytic: -0.420512, relative error: 7.633530e-08\n",
      "numerical: -0.589949 analytic: -0.589950, relative error: 1.250016e-07\n",
      "numerical: 0.515101 analytic: 0.515101, relative error: 1.248858e-08\n",
      "numerical: 0.989881 analytic: 0.989881, relative error: 8.920112e-08\n",
      "numerical: -0.372082 analytic: -0.372082, relative error: 4.268966e-08\n",
      "numerical: -1.475401 analytic: -1.475401, relative error: 4.018977e-09\n",
      "numerical: -1.362032 analytic: -1.362032, relative error: 3.876174e-08\n",
      "numerical: -1.584973 analytic: -1.584973, relative error: 1.715645e-09\n",
      "numerical: 1.116576 analytic: 1.116576, relative error: 1.387339e-08\n",
      "numerical: 0.949656 analytic: 0.949656, relative error: 3.461016e-08\n",
      "numerical: -0.362531 analytic: -0.362531, relative error: 1.276405e-08\n",
      "numerical: -0.571896 analytic: -0.571896, relative error: 2.475838e-08\n",
      "numerical: -0.054508 analytic: -0.054509, relative error: 1.064752e-06\n",
      "numerical: -0.932635 analytic: -0.932635, relative error: 2.177255e-08\n"
     ]
    }
   ],
   "source": [
    "# Complete the implementation of softmax_loss_naive and implement a (naive)\n",
    "# version of the gradient that uses nested loops.\n",
    "loss, grad = softmax_loss_naive(W, X_dev, y_dev, 0.0)\n",
    "\n",
    "# As we did for the SVM, use numeric gradient checking as a debugging tool.\n",
    "# The numeric gradient should be close to the analytic gradient.\n",
    "from cs231n.gradient_check import grad_check_sparse\n",
    "f = lambda w: softmax_loss_naive(w, X_dev, y_dev, 0.0)[0]\n",
    "grad_numerical = grad_check_sparse(f, W, grad, 10)\n",
    "\n",
    "# similar to SVM case, do another gradient check with regularization\n",
    "loss, grad = softmax_loss_naive(W, X_dev, y_dev, 1e2)\n",
    "f = lambda w: softmax_loss_naive(w, X_dev, y_dev, 1e2)[0]\n",
    "grad_numerical = grad_check_sparse(f, W, grad, 10)"
   ]
  },
  {
   "cell_type": "code",
   "execution_count": 49,
   "metadata": {
    "collapsed": false,
    "scrolled": true
   },
   "outputs": [
    {
     "name": "stdout",
     "output_type": "stream",
     "text": [
      "naive loss: 2.356307e+00 computed in 0.117432s\n",
      "vectorized loss: 2.356307e+00 computed in 0.021293s\n",
      "Loss difference: 0.000000\n",
      "Gradient difference: 0.000000\n"
     ]
    }
   ],
   "source": [
    "# Now that we have a naive implementation of the softmax loss function and its gradient,\n",
    "# implement a vectorized version in softmax_loss_vectorized.\n",
    "# The two versions should compute the same results, but the vectorized version should be\n",
    "# much faster.\n",
    "tic = time.time()\n",
    "loss_naive, grad_naive = softmax_loss_naive(W, X_dev, y_dev, 0.00001)\n",
    "toc = time.time()\n",
    "print 'naive loss: %e computed in %fs' % (loss_naive, toc - tic)\n",
    "\n",
    "from cs231n.classifiers.softmax import softmax_loss_vectorized\n",
    "tic = time.time()\n",
    "loss_vectorized, grad_vectorized = softmax_loss_vectorized(W, X_dev, y_dev, 0.00001)\n",
    "toc = time.time()\n",
    "print 'vectorized loss: %e computed in %fs' % (loss_vectorized, toc - tic)\n",
    "\n",
    "# As we did for the SVM, we use the Frobenius norm to compare the two versions\n",
    "# of the gradient.\n",
    "grad_difference = np.linalg.norm(grad_naive - grad_vectorized, ord='fro')\n",
    "print 'Loss difference: %f' % np.abs(loss_naive - loss_vectorized)\n",
    "print 'Gradient difference: %f' % grad_difference"
   ]
  },
  {
   "cell_type": "code",
   "execution_count": 53,
   "metadata": {
    "collapsed": false
   },
   "outputs": [
    {
     "name": "stdout",
     "output_type": "stream",
     "text": [
      "lr 1.000000e-09 reg 1.000000e+03 train accuracy: 0.163163 val accuracy: 0.155000\n",
      "lr 1.000000e-09 reg 5.000000e+03 train accuracy: 0.164306 val accuracy: 0.163000\n",
      "lr 1.000000e-09 reg 8.000000e+03 train accuracy: 0.168673 val accuracy: 0.176000\n",
      "lr 1.000000e-09 reg 9.000000e+03 train accuracy: 0.162857 val accuracy: 0.163000\n",
      "lr 1.000000e-09 reg 1.000000e+04 train accuracy: 0.174980 val accuracy: 0.175000\n",
      "lr 1.000000e-09 reg 2.000000e+04 train accuracy: 0.164796 val accuracy: 0.158000\n",
      "lr 1.000000e-09 reg 3.000000e+04 train accuracy: 0.182551 val accuracy: 0.188000\n",
      "lr 1.000000e-09 reg 4.000000e+04 train accuracy: 0.188776 val accuracy: 0.187000\n",
      "lr 1.000000e-09 reg 5.000000e+04 train accuracy: 0.185102 val accuracy: 0.191000\n",
      "lr 1.000000e-09 reg 7.000000e+04 train accuracy: 0.220612 val accuracy: 0.218000\n",
      "lr 1.000000e-09 reg 1.000000e+05 train accuracy: 0.253469 val accuracy: 0.262000\n",
      "lr 1.000000e-08 reg 1.000000e+03 train accuracy: 0.274551 val accuracy: 0.274000\n",
      "lr 1.000000e-08 reg 5.000000e+03 train accuracy: 0.324571 val accuracy: 0.328000\n",
      "lr 1.000000e-08 reg 8.000000e+03 train accuracy: 0.350245 val accuracy: 0.359000\n",
      "lr 1.000000e-08 reg 9.000000e+03 train accuracy: 0.356286 val accuracy: 0.354000\n",
      "lr 1.000000e-08 reg 1.000000e+04 train accuracy: 0.360184 val accuracy: 0.372000\n",
      "lr 1.000000e-08 reg 2.000000e+04 train accuracy: 0.358735 val accuracy: 0.379000\n",
      "lr 1.000000e-08 reg 3.000000e+04 train accuracy: 0.345224 val accuracy: 0.357000\n",
      "lr 1.000000e-08 reg 4.000000e+04 train accuracy: 0.337143 val accuracy: 0.348000\n",
      "lr 1.000000e-08 reg 5.000000e+04 train accuracy: 0.329224 val accuracy: 0.340000\n",
      "lr 1.000000e-08 reg 7.000000e+04 train accuracy: 0.318449 val accuracy: 0.330000\n",
      "lr 1.000000e-08 reg 1.000000e+05 train accuracy: 0.303796 val accuracy: 0.322000\n",
      "lr 2.000000e-08 reg 1.000000e+03 train accuracy: 0.317735 val accuracy: 0.326000\n",
      "lr 2.000000e-08 reg 5.000000e+03 train accuracy: 0.380673 val accuracy: 0.385000\n",
      "lr 2.000000e-08 reg 8.000000e+03 train accuracy: 0.379163 val accuracy: 0.401000\n",
      "lr 2.000000e-08 reg 9.000000e+03 train accuracy: 0.377816 val accuracy: 0.397000\n",
      "lr 2.000000e-08 reg 1.000000e+04 train accuracy: 0.375531 val accuracy: 0.388000\n",
      "lr 2.000000e-08 reg 2.000000e+04 train accuracy: 0.359163 val accuracy: 0.371000\n",
      "lr 2.000000e-08 reg 3.000000e+04 train accuracy: 0.344265 val accuracy: 0.362000\n",
      "lr 2.000000e-08 reg 4.000000e+04 train accuracy: 0.336286 val accuracy: 0.354000\n",
      "lr 2.000000e-08 reg 5.000000e+04 train accuracy: 0.328041 val accuracy: 0.337000\n",
      "lr 2.000000e-08 reg 7.000000e+04 train accuracy: 0.318653 val accuracy: 0.335000\n",
      "lr 2.000000e-08 reg 1.000000e+05 train accuracy: 0.303857 val accuracy: 0.322000\n",
      "lr 3.000000e-08 reg 1.000000e+03 train accuracy: 0.349082 val accuracy: 0.347000\n",
      "lr 3.000000e-08 reg 5.000000e+03 train accuracy: 0.389306 val accuracy: 0.397000\n",
      "lr 3.000000e-08 reg 8.000000e+03 train accuracy: 0.381000 val accuracy: 0.396000\n",
      "lr 3.000000e-08 reg 9.000000e+03 train accuracy: 0.378041 val accuracy: 0.391000\n",
      "lr 3.000000e-08 reg 1.000000e+04 train accuracy: 0.375224 val accuracy: 0.388000\n",
      "lr 3.000000e-08 reg 2.000000e+04 train accuracy: 0.358388 val accuracy: 0.373000\n",
      "lr 3.000000e-08 reg 3.000000e+04 train accuracy: 0.346490 val accuracy: 0.355000\n",
      "lr 3.000000e-08 reg 4.000000e+04 train accuracy: 0.339755 val accuracy: 0.351000\n",
      "lr 3.000000e-08 reg 5.000000e+04 train accuracy: 0.329551 val accuracy: 0.339000\n",
      "lr 3.000000e-08 reg 7.000000e+04 train accuracy: 0.317429 val accuracy: 0.331000\n",
      "lr 3.000000e-08 reg 1.000000e+05 train accuracy: 0.308673 val accuracy: 0.322000\n",
      "lr 4.000000e-08 reg 1.000000e+03 train accuracy: 0.374163 val accuracy: 0.364000\n",
      "lr 4.000000e-08 reg 5.000000e+03 train accuracy: 0.390898 val accuracy: 0.405000\n",
      "lr 4.000000e-08 reg 8.000000e+03 train accuracy: 0.380551 val accuracy: 0.392000\n",
      "lr 4.000000e-08 reg 9.000000e+03 train accuracy: 0.378735 val accuracy: 0.387000\n",
      "lr 4.000000e-08 reg 1.000000e+04 train accuracy: 0.375796 val accuracy: 0.390000\n",
      "lr 4.000000e-08 reg 2.000000e+04 train accuracy: 0.356408 val accuracy: 0.365000\n",
      "lr 4.000000e-08 reg 3.000000e+04 train accuracy: 0.346122 val accuracy: 0.358000\n",
      "lr 4.000000e-08 reg 4.000000e+04 train accuracy: 0.335490 val accuracy: 0.350000\n",
      "lr 4.000000e-08 reg 5.000000e+04 train accuracy: 0.329408 val accuracy: 0.341000\n",
      "lr 4.000000e-08 reg 7.000000e+04 train accuracy: 0.317571 val accuracy: 0.333000\n",
      "lr 4.000000e-08 reg 1.000000e+05 train accuracy: 0.307959 val accuracy: 0.318000\n",
      "lr 5.000000e-08 reg 1.000000e+03 train accuracy: 0.385694 val accuracy: 0.387000\n",
      "lr 5.000000e-08 reg 5.000000e+03 train accuracy: 0.390163 val accuracy: 0.400000\n",
      "lr 5.000000e-08 reg 8.000000e+03 train accuracy: 0.380204 val accuracy: 0.393000\n",
      "lr 5.000000e-08 reg 9.000000e+03 train accuracy: 0.377980 val accuracy: 0.397000\n",
      "lr 5.000000e-08 reg 1.000000e+04 train accuracy: 0.375327 val accuracy: 0.396000\n",
      "lr 5.000000e-08 reg 2.000000e+04 train accuracy: 0.356959 val accuracy: 0.373000\n",
      "lr 5.000000e-08 reg 3.000000e+04 train accuracy: 0.345673 val accuracy: 0.358000\n",
      "lr 5.000000e-08 reg 4.000000e+04 train accuracy: 0.338633 val accuracy: 0.352000\n",
      "lr 5.000000e-08 reg 5.000000e+04 train accuracy: 0.329408 val accuracy: 0.341000\n",
      "lr 5.000000e-08 reg 7.000000e+04 train accuracy: 0.320061 val accuracy: 0.334000\n",
      "lr 5.000000e-08 reg 1.000000e+05 train accuracy: 0.305959 val accuracy: 0.330000\n",
      "lr 6.000000e-08 reg 1.000000e+03 train accuracy: 0.397592 val accuracy: 0.405000\n",
      "lr 6.000000e-08 reg 5.000000e+03 train accuracy: 0.390122 val accuracy: 0.406000\n",
      "lr 6.000000e-08 reg 8.000000e+03 train accuracy: 0.380959 val accuracy: 0.391000\n",
      "lr 6.000000e-08 reg 9.000000e+03 train accuracy: 0.378286 val accuracy: 0.398000\n",
      "lr 6.000000e-08 reg 1.000000e+04 train accuracy: 0.377082 val accuracy: 0.390000\n",
      "lr 6.000000e-08 reg 2.000000e+04 train accuracy: 0.357755 val accuracy: 0.376000\n",
      "lr 6.000000e-08 reg 3.000000e+04 train accuracy: 0.346000 val accuracy: 0.360000\n",
      "lr 6.000000e-08 reg 4.000000e+04 train accuracy: 0.337082 val accuracy: 0.349000\n",
      "lr 6.000000e-08 reg 5.000000e+04 train accuracy: 0.328286 val accuracy: 0.343000\n",
      "lr 6.000000e-08 reg 7.000000e+04 train accuracy: 0.316714 val accuracy: 0.335000\n",
      "lr 6.000000e-08 reg 1.000000e+05 train accuracy: 0.306204 val accuracy: 0.324000\n",
      "lr 7.000000e-08 reg 1.000000e+03 train accuracy: 0.406163 val accuracy: 0.412000\n",
      "lr 7.000000e-08 reg 5.000000e+03 train accuracy: 0.390592 val accuracy: 0.404000\n",
      "lr 7.000000e-08 reg 8.000000e+03 train accuracy: 0.379000 val accuracy: 0.399000\n",
      "lr 7.000000e-08 reg 9.000000e+03 train accuracy: 0.378959 val accuracy: 0.397000\n",
      "lr 7.000000e-08 reg 1.000000e+04 train accuracy: 0.375796 val accuracy: 0.386000\n",
      "lr 7.000000e-08 reg 2.000000e+04 train accuracy: 0.358980 val accuracy: 0.382000\n",
      "lr 7.000000e-08 reg 3.000000e+04 train accuracy: 0.341796 val accuracy: 0.349000\n",
      "lr 7.000000e-08 reg 4.000000e+04 train accuracy: 0.329816 val accuracy: 0.348000\n",
      "lr 7.000000e-08 reg 5.000000e+04 train accuracy: 0.331469 val accuracy: 0.346000\n",
      "lr 7.000000e-08 reg 7.000000e+04 train accuracy: 0.319776 val accuracy: 0.329000\n",
      "lr 7.000000e-08 reg 1.000000e+05 train accuracy: 0.309633 val accuracy: 0.321000\n",
      "lr 8.000000e-08 reg 1.000000e+03 train accuracy: 0.410265 val accuracy: 0.413000\n",
      "lr 8.000000e-08 reg 5.000000e+03 train accuracy: 0.390673 val accuracy: 0.402000\n",
      "lr 8.000000e-08 reg 8.000000e+03 train accuracy: 0.381122 val accuracy: 0.388000\n",
      "lr 8.000000e-08 reg 9.000000e+03 train accuracy: 0.378429 val accuracy: 0.388000\n",
      "lr 8.000000e-08 reg 1.000000e+04 train accuracy: 0.375265 val accuracy: 0.390000\n",
      "lr 8.000000e-08 reg 2.000000e+04 train accuracy: 0.357163 val accuracy: 0.379000\n",
      "lr 8.000000e-08 reg 3.000000e+04 train accuracy: 0.345429 val accuracy: 0.352000\n",
      "lr 8.000000e-08 reg 4.000000e+04 train accuracy: 0.337837 val accuracy: 0.355000\n",
      "lr 8.000000e-08 reg 5.000000e+04 train accuracy: 0.324347 val accuracy: 0.342000\n",
      "lr 8.000000e-08 reg 7.000000e+04 train accuracy: 0.317735 val accuracy: 0.340000\n",
      "lr 8.000000e-08 reg 1.000000e+05 train accuracy: 0.310286 val accuracy: 0.323000\n",
      "lr 9.000000e-08 reg 1.000000e+03 train accuracy: 0.411163 val accuracy: 0.408000\n",
      "lr 9.000000e-08 reg 5.000000e+03 train accuracy: 0.390020 val accuracy: 0.404000\n",
      "lr 9.000000e-08 reg 8.000000e+03 train accuracy: 0.379245 val accuracy: 0.398000\n",
      "lr 9.000000e-08 reg 9.000000e+03 train accuracy: 0.377878 val accuracy: 0.398000\n",
      "lr 9.000000e-08 reg 1.000000e+04 train accuracy: 0.376469 val accuracy: 0.400000\n",
      "lr 9.000000e-08 reg 2.000000e+04 train accuracy: 0.356673 val accuracy: 0.366000\n",
      "lr 9.000000e-08 reg 3.000000e+04 train accuracy: 0.347592 val accuracy: 0.369000\n",
      "lr 9.000000e-08 reg 4.000000e+04 train accuracy: 0.337837 val accuracy: 0.351000\n",
      "lr 9.000000e-08 reg 5.000000e+04 train accuracy: 0.327245 val accuracy: 0.339000\n",
      "lr 9.000000e-08 reg 7.000000e+04 train accuracy: 0.320245 val accuracy: 0.333000\n",
      "lr 9.000000e-08 reg 1.000000e+05 train accuracy: 0.300980 val accuracy: 0.321000\n",
      "best validation accuracy achieved during cross-validation: 0.413000\n"
     ]
    }
   ],
   "source": [
    "# Use the validation set to tune hyperparameters (regularization strength and\n",
    "# learning rate). You should experiment with different ranges for the learning\n",
    "# rates and regularization strengths; if you are careful you should be able to\n",
    "# get a classification accuracy of over 0.35 on the validation set.\n",
    "from cs231n.classifiers import Softmax\n",
    "results = {}\n",
    "best_val = -1\n",
    "best_softmax = None\n",
    "learning_rates = [1e-8,2e-8,3e-8,4e-8,5e-8,6e-8,7e-8,8e-8,9e-8,1e-9]\n",
    "regularization_strengths = [1e3,5e3,8e3,9e3,1e4,2e4,3e4,4e4,5e4,7e4,1e5]\n",
    "\n",
    "################################################################################\n",
    "# TODO:                                                                        #\n",
    "# Use the validation set to set the learning rate and regularization strength. #\n",
    "# This should be identical to the validation that you did for the SVM; save    #\n",
    "# the best trained softmax classifer in best_softmax.                          #\n",
    "################################################################################\n",
    "for rate in learning_rates:\n",
    "    for strength in regularization_strengths:\n",
    "        softmax = Softmax()\n",
    "        softmax.train(X_train, y_train, learning_rate = rate, reg = strength, num_iters=20000)\n",
    "        y_train_pred = softmax.predict(X_train)\n",
    "        training_accuracy = np.mean(y_train == y_train_pred)\n",
    "        y_val_pred = softmax.predict(X_val)\n",
    "        validation_accuracy = np.mean(y_val == y_val_pred)\n",
    "        if validation_accuracy > best_val:\n",
    "            best_val = validation_accuracy\n",
    "            best_softmax = softmax\n",
    "        results[(rate,strength)] = (training_accuracy, validation_accuracy)\n",
    "\n",
    "################################################################################\n",
    "#                              END OF YOUR CODE                                #\n",
    "################################################################################\n",
    "    \n",
    "# Print out results.\n",
    "for lr, reg in sorted(results):\n",
    "    train_accuracy, val_accuracy = results[(lr, reg)]\n",
    "    print 'lr %e reg %e train accuracy: %f val accuracy: %f' % (\n",
    "                lr, reg, train_accuracy, val_accuracy)\n",
    "    \n",
    "print 'best validation accuracy achieved during cross-validation: %f' % best_val"
   ]
  },
  {
   "cell_type": "code",
   "execution_count": 54,
   "metadata": {
    "collapsed": false
   },
   "outputs": [
    {
     "name": "stdout",
     "output_type": "stream",
     "text": [
      "softmax on raw pixels final test set accuracy: 0.386000\n"
     ]
    }
   ],
   "source": [
    "# evaluate on test set\n",
    "# Evaluate the best softmax on test set\n",
    "y_test_pred = best_softmax.predict(X_test)\n",
    "test_accuracy = np.mean(y_test == y_test_pred)\n",
    "print 'softmax on raw pixels final test set accuracy: %f' % (test_accuracy, )"
   ]
  },
  {
   "cell_type": "code",
   "execution_count": 55,
   "metadata": {
    "collapsed": false
   },
   "outputs": [
    {
     "data": {
      "image/png": "[encoded data removed]",
      "text/plain": [
       "<matplotlib.figure.Figure at 0x7a0429377ed0>"
      ]
     },
     "metadata": {},
     "output_type": "display_data"
    }
   ],
   "source": [
    "# Visualize the learned weights for each class\n",
    "w = best_softmax.W[:-1,:] # strip out the bias\n",
    "w = w.reshape(32, 32, 3, 10)\n",
    "\n",
    "w_min, w_max = np.min(w), np.max(w)\n",
    "\n",
    "classes = ['plane', 'car', 'bird', 'cat', 'deer', 'dog', 'frog', 'horse', 'ship', 'truck']\n",
    "for i in xrange(10):\n",
    "  plt.subplot(2, 5, i + 1)\n",
    "  \n",
    "  # Rescale the weights to be between 0 and 255\n",
    "  wimg = 255.0 * (w[:, :, :, i].squeeze() - w_min) / (w_max - w_min)\n",
    "  plt.imshow(wimg.astype('uint8'))\n",
    "  plt.axis('off')\n",
    "  plt.title(classes[i])"
   ]
  },
  {
   "cell_type": "code",
   "execution_count": null,
   "metadata": {
    "collapsed": true
   },
   "outputs": [],
   "source": []
  }
 ],
 "metadata": {
  "kernelspec": {
   "display_name": "Python 2",
   "language": "python",
   "name": "python2"
  },
  "language_info": {
   "codemirror_mode": {
    "name": "ipython",
    "version": 2
   },
   "file_extension": ".py",
   "mimetype": "text/x-python",
   "name": "python",
   "nbconvert_exporter": "python",
   "pygments_lexer": "ipython2",
   "version": "2.7.12"
  }
 },
 "nbformat": 4,
 "nbformat_minor": 0
}
